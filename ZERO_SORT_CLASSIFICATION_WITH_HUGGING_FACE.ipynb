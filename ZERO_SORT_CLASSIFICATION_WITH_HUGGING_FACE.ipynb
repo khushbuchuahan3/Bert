{
  "nbformat": 4,
  "nbformat_minor": 0,
  "metadata": {
    "colab": {
      "name": "ZERO_SORT_CLASSIFICATION-WITH_HUGGING_FACE.ipynb",
      "provenance": [],
      "mount_file_id": "1ty5BoUhnUSPGNvK5kJeCiah13LWcmwYs",
      "authorship_tag": "ABX9TyMxWqmptLlxI/waBaaahFjM"
    },
    "kernelspec": {
      "name": "python3",
      "display_name": "Python 3"
    },
    "language_info": {
      "name": "python"
    },
    "accelerator": "GPU",
    "gpuClass": "standard"
  },
  "cells": [
    {
      "cell_type": "code",
      "source": [
        "from transformers import pipeline\n",
        "classifier = pipeline(\"zero-shot-classification\",\n",
        "                      model=\"facebook/bart-large-mnli\")\n",
        "\n"
      ],
      "metadata": {
        "id": "UaBIJHlKm_S7"
      },
      "execution_count": 27,
      "outputs": []
    },
    {
      "cell_type": "code",
      "source": [
        "sequence_to_classify = \"i have 10 min to go for flight.we have 5 min to talk lets talk\"\n",
        "candidate_labels = ['urgent', 'not-urgent', 'dancing']\n",
        "classifier(sequence_to_classify, candidate_labels)"
      ],
      "metadata": {
        "colab": {
          "base_uri": "https://localhost:8080/"
        },
        "id": "EgjTIaFsoNPK",
        "outputId": "ca93ba69-55f1-40f4-aac4-704eedf8d2de"
      },
      "execution_count": 29,
      "outputs": [
        {
          "output_type": "execute_result",
          "data": {
            "text/plain": [
              "{'sequence': 'i have 10 min to go for flight.we have 5 min to talk lets talk',\n",
              " 'labels': ['urgent', 'not-urgent', 'dancing'],\n",
              " 'scores': [0.7159519791603088, 0.226981520652771, 0.057066578418016434]}"
            ]
          },
          "metadata": {},
          "execution_count": 29
        }
      ]
    },
    {
      "cell_type": "code",
      "source": [
        "sequence_to_classify = \"i have to meet mr arjun in 10 minutes\"\n",
        "candidate_labels = ['urgent',\"not urgent\",\"movies\"]\n",
        "classifier(sequence_to_classify, candidate_labels)\n"
      ],
      "metadata": {
        "colab": {
          "base_uri": "https://localhost:8080/"
        },
        "id": "8DFDwPTTm_xC",
        "outputId": "c11eebcc-14ac-40b7-8f59-cbc28502b85a"
      },
      "execution_count": 30,
      "outputs": [
        {
          "output_type": "execute_result",
          "data": {
            "text/plain": [
              "{'sequence': 'i have to meet mr arjun in 10 minutes',\n",
              " 'labels': ['urgent', 'movies', 'not urgent'],\n",
              " 'scores': [0.9732280373573303, 0.014545704238116741, 0.012226298451423645]}"
            ]
          },
          "metadata": {},
          "execution_count": 30
        }
      ]
    },
    {
      "cell_type": "code",
      "source": [
        "sequence_to_classify = \"i am going for picknick\"\n",
        "candidate_labels = ['travel', 'cooking', 'dancing']\n",
        "classifier(sequence_to_classify, candidate_labels)"
      ],
      "metadata": {
        "colab": {
          "base_uri": "https://localhost:8080/"
        },
        "id": "o5NCox-Lniem",
        "outputId": "a8cdec35-cdf7-47a0-d3e0-3585bf12a7a6"
      },
      "execution_count": 31,
      "outputs": [
        {
          "output_type": "execute_result",
          "data": {
            "text/plain": [
              "{'sequence': 'i am going for picknick',\n",
              " 'labels': ['travel', 'cooking', 'dancing'],\n",
              " 'scores': [0.458766371011734, 0.3279646039009094, 0.21326898038387299]}"
            ]
          },
          "metadata": {},
          "execution_count": 31
        }
      ]
    },
    {
      "cell_type": "code",
      "source": [],
      "metadata": {
        "id": "93i3yhWPokK5"
      },
      "execution_count": null,
      "outputs": []
    }
  ]
}